{
 "cells": [
  {
   "cell_type": "markdown",
   "id": "20c4351b-c409-44f7-963e-eb6a0e8946a8",
   "metadata": {
    "tags": []
   },
   "source": [
    "## Jane Street Puzzle Solution\n",
    "## March 2023\n",
    "## Robot Long Jump\n",
    "### https://github.com/ofgn"
   ]
  },
  {
   "cell_type": "markdown",
   "id": "6e1f4c71-b769-401b-aee2-818318b15ccf",
   "metadata": {},
   "source": [
    "<font size=\"4\">\n",
    "The robots have their turns simultaneously and don't know each others scores, therefore, the only type of strategy I can think of is to use a decision threshold. The decision threshold $t$ will be a value in the range $0 \\leq t \\leq 1$ which determines whether the robot chooses to jump or take another step based on it's current position $x$. After a robot takes a step, there are three possible outcomes which depend on where it landed.\n",
    "\n",
    "\n",
    "\n",
    "1. It hasn't passed the threshold and will choose to take another step i.e \n",
    "2. It has passed the threshold but hasn't past the takeoff point and will choose to jump.\n",
    "3. It has passed the takeoff point and is given a foul, recieves a score of zero and can no longer play.\n",
    "\n",
    "which is the same as saying:\n",
    "\n",
    "1. Robot lands in Region 1: $x < t$\n",
    "2. Robot lands in Region 2: $t < x < 1$\n",
    "3. Robot lands in Region 3: $x > 1$\n",
    "\n",
    "\n",
    "</font>"
   ]
  },
  {
   "cell_type": "markdown",
   "id": "7c79f366-1936-4c31-8352-66e279e2edd2",
   "metadata": {},
   "source": [
    "<font size=\"4\">\n",
    "Since the robot will only be taking steps from Region 1, we need to find:\n",
    "\n",
    "$P_{step}$: Probability that the robot steps from Region 1 and lands in Region 1.\n",
    "$P_{jump}$: Probability that the robot steps from Region 1 and lands in Region 2.\n",
    "$P_{foul}$. Probability that the robot steps from Region 1 and lands in Region 3.\n",
    "\n",
    "This is straightfoward to calculate after the first step ($n=1$) where $x=0$\n",
    "\n",
    "$$P_{1, step} = t$$\n",
    "$$P_{1, jump} = 1-t$$ \n",
    "$$P_{1, foul} = 0$$\n",
    "\n",
    "However, since there is a chance the robot ends up in Region 1 again and takes another step, the probabilities for that step need to be found.\n",
    "\n",
    "$$P_{2, step} = P_{1, step} \\times \\frac{t}{2}$$\n",
    "$$P_{2, jump} = P_{1, step} \\times (1-t)$$\n",
    "$$P_{2, foul} = P_{1, step} \\times \\frac{t}{2}$$\n",
    "\n",
    "Since there is always a chance to land in Region again, the probabilities have to be calculated for each subsequent step. \n",
    "\n",
    "$$P_{n, step} = P_{n-1, step} \\times  = \\frac{t^{n-1}}{(n-1)!} \\times \\frac{t}{n} = \\frac{t^n}{n!}$$\n",
    "$$P_{n, jump} = P_{n-1, step} \\times (1-t) = \\frac{t^{n-1}}{(n-1)!} \\times (1-t)$$ \n",
    "$$P_{n, foul} = P_{n-1, step} \\times \\frac{(n-1)t}{n} =  \\frac{t^n}{n(n-2)!}$$\n",
    "\n",
    "The total probabilities will be the sum of these probabilites.\n",
    "\n",
    "$$P_{step} = \\lim_{n\\to\\infty} \\frac{t^n}{n!}  = 0$$\n",
    "$$P_{jump} = \\sum_2 ^\\infty \\frac{t^{n-1}}{(n-1)!} \\times (1-t) = e^t (1-t)$$\n",
    "$$P_{foul} =  \\sum_2 ^\\infty \\frac{t^n}{n(n-2)!} = 1 - e^t (1-t)$$\n",
    "\n",
    "\n",
    "</font>"
   ]
  },
  {
   "cell_type": "markdown",
   "id": "0460cb4a-0b0f-4f83-b282-4c258c5d67ec",
   "metadata": {},
   "source": [
    "<font size=\"4\">\n",
    "Notice $P_{step}$ goes to zero which makes sense since there will never be case where the robot can keep taking steps and never cross the take-off point.\n",
    "    \n",
    "From here, we will denote\n",
    "    \n",
    "$$p(t) := e^t (1-t)$$\n",
    "$$q(t) := 1 - e^t (1-t)$$\n",
    "    \n",
    "Now that we have expressions for the probabilities as functions of the threshold, the optimal strategy can be found.\n",
    "    \n",
    "The probability robot $A$ with threshold $a$ and robot $B$ with threshold $b$ both jump is:\n",
    "    \n",
    "$$p(a)p(b)$$\n",
    "    \n",
    "An expression $\\phi_A$ for the probability that robot A scores higher than robot B if they both jump is needed\n",
    "    \n",
    "To find $\\phi_A$, the probability density function (pdf) associated with the distribution of a robots scores with threshold $t$, conditioned on jumping can be used. Without going through the derivation, the pdf is\n",
    "    \n",
    "$$ f(x,t)=   \\left\\{\n",
    "\\begin{array}{ll}\n",
    "      \\frac{x}{1-t} - \\frac{t}{1-t} & t<x\\leq 1 \\\\\n",
    "      1 & 1 < x \\leq 1 + t \\\\\n",
    "     \\frac{2}{1-t}-\\frac{x}{1-t} & t+1\\leq x<2 \\\\\n",
    "\\end{array} \n",
    "\\right.  $$\n",
    "    \n",
    "which has cumulative distribution function (cdf)\n",
    "    \n",
    "$$ F(x,t)=  \\int _0 ^x f(u,t) du$$\n",
    "\n",
    "</font>"
   ]
  },
  {
   "cell_type": "markdown",
   "id": "c2773c13-2076-4510-8875-3a954ed829df",
   "metadata": {},
   "source": [
    "<font size=\"4\">\n",
    "\n",
    "Phi can be defined to be\n",
    "    \n",
    "$$\\phi(a,b):= \\int_0 ^2 (1-F(x,a)) f(x,b) dx $$\n",
    "    \n",
    "The probabilities of a win, draw, loss for robot $A$ can be given as\n",
    "    \n",
    "$$w_A(a,b) = p(a)p(b)\\phi_A(a,b) + p(a)q(b)$$\n",
    "$$d_A(a,b) = q(a)q(b) $$\n",
    "$$l_A(a,b) = p(a)p(b)(1-\\phi_A(a,b)) + q(a)p(b) $$\n",
    "    \n",
    "To find the Nash equilibrium, define the utility function:\n",
    "    \n",
    "$$u_A(a,b):= w_A(a,b)-l_A(a,b)$$\n",
    "    \n",
    "Find the saddle point of the surface, where a change in $a$ decreases $u_A(a,b)$ and a change in $b$ increases $u_A(a,b)$.\n",
    "    \n",
    "I couldn't find a symmetry or a trick to avoid having a transcendental utility function, so I solved the following system of equations numerically:\n",
    "    \n",
    "$$\\frac{\\partial u_A}{\\partial a} = \\frac{\\partial u_B}{\\partial b} = 0$$\n",
    "\n",
    "giving the optimal threshold value\n",
    "    \n",
    "$$a = b \\approx 0.416195354$$\n",
    "    \n",
    "which gives the final answer\n",
    "    \n",
    "$$q(0.416195354) = 0.114845886 $$\n",
    "</font>"
   ]
  }
 ],
 "metadata": {
  "kernelspec": {
   "display_name": "Python 3 (ipykernel)",
   "language": "python",
   "name": "python3"
  },
  "language_info": {
   "codemirror_mode": {
    "name": "ipython",
    "version": 3
   },
   "file_extension": ".py",
   "mimetype": "text/x-python",
   "name": "python",
   "nbconvert_exporter": "python",
   "pygments_lexer": "ipython3",
   "version": "3.10.6"
  }
 },
 "nbformat": 4,
 "nbformat_minor": 5
}
