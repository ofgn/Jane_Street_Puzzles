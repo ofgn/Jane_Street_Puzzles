{
 "cells": [
  {
   "cell_type": "markdown",
   "id": "0ed995b3-c79f-4242-8d76-f3c0134cfd0d",
   "metadata": {},
   "source": [
    "### Solution to the January 2023 Jane Street puzzle: Lesses More\n",
    "\n",
    "\n",
    "### https://www.janestreet.com/puzzles/lesses-more-index/"
   ]
  },
  {
   "cell_type": "code",
   "execution_count": 5,
   "id": "48c788aa-0d93-4c3e-8c97-5d2c5e6c5384",
   "metadata": {},
   "outputs": [],
   "source": [
    "import numpy as np\n",
    "from scipy import linalg"
   ]
  },
  {
   "cell_type": "code",
   "execution_count": 327,
   "id": "7805692b-dcd1-43d8-886f-8839e25dc567",
   "metadata": {},
   "outputs": [],
   "source": [
    "def midpoints(x):\n",
    "    a,b,c,d = x[0],x[1],x[2],x[3]\n",
    "    return np.abs(np.array([a-d,a-b,b-c,c-d]))\n",
    "\n",
    "def f(x):\n",
    "    y = midpoints(x)\n",
    "    z = np.zeros(4)\n",
    "    n = 1\n",
    "    while not np.array_equal(y,z):\n",
    "        y = midpoints(y)\n",
    "        n += 1\n",
    "    return n + 1"
   ]
  },
  {
   "attachments": {},
   "cell_type": "markdown",
   "id": "0cef238e-4577-4098-a118-c3e77ef08c46",
   "metadata": {},
   "source": [
    "A brute force approach is not feasible as the size of the search space is $10^{28}$.\n",
    "\n",
    "Without loss of generality, we can assume $a \\geq b \\geq c \\geq d$.\n",
    "\n",
    "For an input $x^{(0)} = [a,b,c,d]^T$, the next square will be $x^{(1)} = [a-d,a-b,b-c,c-d]^T$\n",
    "\n",
    "Define a linear operator $A$ such that $Ax^{(0)} = x^{(1)}$.\n",
    "\n",
    " $A =\\left[\\begin{array}{ccc}\n",
    "1 & 0 & 0 & -1\\\\\n",
    "1 & -1 & 0 & 0\\\\\n",
    "0 & 1 & -1 & 0\\\\\n",
    "0 & 0 & 1 & -1 \n",
    "\\end{array}\\right]$\n",
    "\n",
    "It can be seen that for any $x^{(0)}$ which is not monotonically decreasing such that $a > b > c > d$, it is true that $x^{(7)} = A^7x^{(0)} = [0,0,0,0]$\n",
    "\n",
    "For large total number of squares $f$, we require $x^{(0)}$ to be monotonically decreasing.\n",
    "\n",
    "If the number of operations is $n = f - 1$, we can see that for squares requiring $n > 7$, for any $m \\leq n - 7$:\n",
    "\n",
    "$x^{(m)} = A^mx^{(0)}$ is monotonically decreasing and the largest element is the sum of the other three.\n",
    "\n"
   ]
  },
  {
   "cell_type": "code",
   "execution_count": 203,
   "id": "7a2d245e-2d73-4137-abea-5d58c2a292a4",
   "metadata": {},
   "outputs": [
    {
     "name": "stdout",
     "output_type": "stream",
     "text": [
      "Eigenvalues\n",
      " [ 8.39286755e-01+0.j         -4.87457297e-16+0.j\n",
      " -1.41964338e+00+0.60629073j -1.41964338e+00-0.60629073j]\n"
     ]
    }
   ],
   "source": [
    "# Long termination times require a>b>c>d.\n",
    "\n",
    "A = np.array([\n",
    "    [1, 0, 0, -1],\n",
    "    [1, -1, 0, 0],\n",
    "    [0, 1, -1, 0],\n",
    "    [0, 0, 1, -1]\n",
    "])\n",
    "\n",
    "evs = linalg.eigvals(A)\n",
    "\n",
    "print(\"Eigenvalues\\n\",eig)\n",
    "\n",
    "ev = np.real(8.39286755e-01+0.j)"
   ]
  },
  {
   "cell_type": "markdown",
   "id": "ebff74e8-0738-47f2-bfd7-bbfb8f174830",
   "metadata": {},
   "source": [
    "We can see there is only one non-trivial real eigenvalue $\\lambda \\approx 0.839286755$\n",
    "\n",
    "This is an important result as $A$ can operate on it's real eigenvectors any amount of times without reducing it to the zero 4-vector.\n",
    "\n",
    "$A^n[(1+\\lambda)^3,(1+\\lambda)^2,(1+\\lambda), 1] = \\lambda^n [(1+\\lambda)^3,(1+\\lambda)^2,(1+\\lambda), 1]$\n",
    "\n",
    "Now, our search space has been vastly reduced as we only have to look for a, b, c, d between 1 and 10,000,000 where $\\frac{a}{b}=\\frac{b}{c}=\\frac{c}{d}\\approx (1+\\lambda)$.\n",
    "\n",
    "As we are also looking for the minimum of $a + b + c + d$, due to linearity, we can look at solutions of the form $ \\phi[(1+\\lambda)^3, (1+\\lambda)+1, 1, 0]$ where $\\phi$ is an integer."
   ]
  },
  {
   "cell_type": "code",
   "execution_count": 345,
   "id": "eadca375-b63f-4f64-ae48-4a414d069dca",
   "metadata": {},
   "outputs": [
    {
     "name": "stdout",
     "output_type": "stream",
     "text": [
      "[8646064. 3945294. 1389537.       0.]\n"
     ]
    }
   ],
   "source": [
    "u = np.array([(1+ev)**3,(1+ev)+1,1,0])\n",
    "tol = 1e-2 * np.ones(4)\n",
    "limit = int(10000000 / (1+ev)**3)\n",
    "s = {}\n",
    "M = 0\n",
    "\n",
    "for phi in range(1, limit + 1 ):\n",
    "    x = phi * u\n",
    "    res = np.abs(x-np.round(x))\n",
    "    if np.all(res < tol):\n",
    "        y = np.round(x)\n",
    "        if f(y) > M:\n",
    "            M = f(y)\n",
    "            s[M] = y\n",
    "\n",
    "print(s[M])"
   ]
  },
  {
   "attachments": {},
   "cell_type": "markdown",
   "id": "1db907a9-7e3e-4183-a37e-694b2a4f4899",
   "metadata": {},
   "source": [
    "The solution is $8646064;3945294;1389537;0$ which produces $44$ squares."
   ]
  }
 ],
 "metadata": {
  "kernelspec": {
   "display_name": "Python 3 (ipykernel)",
   "language": "python",
   "name": "python3"
  },
  "language_info": {
   "codemirror_mode": {
    "name": "ipython",
    "version": 3
   },
   "file_extension": ".py",
   "mimetype": "text/x-python",
   "name": "python",
   "nbconvert_exporter": "python",
   "pygments_lexer": "ipython3",
   "version": "3.10.6"
  }
 },
 "nbformat": 4,
 "nbformat_minor": 5
}
